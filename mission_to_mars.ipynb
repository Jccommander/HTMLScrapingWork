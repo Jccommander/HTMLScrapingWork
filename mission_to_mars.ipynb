{
 "cells": [
  {
   "cell_type": "code",
   "execution_count": 1,
   "metadata": {},
   "outputs": [],
   "source": [
    "from splinter import Browser\n",
    "from bs4 import BeautifulSoup\n",
    "import pandas as pd"
   ]
  },
  {
   "cell_type": "code",
   "execution_count": 2,
   "metadata": {},
   "outputs": [],
   "source": [
    "executable_path = {'executable_path': '/usr/local/bin/chromedriver'}\n",
    "browser = Browser('chrome', **executable_path, headless=False)"
   ]
  },
  {
   "cell_type": "code",
   "execution_count": 3,
   "metadata": {},
   "outputs": [],
   "source": [
    "# Web scraping of NASA Mars News Site\n",
    "\n",
    "url = \"https://mars.nasa.gov/news/\"\n",
    "browser.visit(url)"
   ]
  },
  {
   "cell_type": "code",
   "execution_count": 4,
   "metadata": {},
   "outputs": [
    {
     "name": "stdout",
     "output_type": "stream",
     "text": [
      "Martian Skies Clearing over Opportunity Rover\n",
      "As the skies above Opportunity continue to clear, engineers at JPL are increasing the frequency of commands asking the solar-powered rover to communicate with Earth.\n"
     ]
    }
   ],
   "source": [
    "html = browser.html\n",
    "soup = BeautifulSoup(html, \"html.parser\")\n",
    "\n",
    "articles = soup.find('ul', class_=\"item_list\")\n",
    "\n",
    "news_title = articles.find('div', class_=\"content_title\").text\n",
    "\n",
    "news_p = articles.find('div', class_=\"article_teaser_body\").text\n",
    "\n",
    "print(news_title)\n",
    "print(news_p)"
   ]
  },
  {
   "cell_type": "code",
   "execution_count": 5,
   "metadata": {},
   "outputs": [],
   "source": [
    "# Navigate to appropriate elements using splinter\n",
    "\n",
    "url = \"https://www.jpl.nasa.gov/spaceimages/?search=&category=Mars\"\n",
    "browser.visit(url)"
   ]
  },
  {
   "cell_type": "code",
   "execution_count": 6,
   "metadata": {},
   "outputs": [],
   "source": [
    "# Use splinter to click the full image button in order to retrieve appropriate url\n",
    "\n",
    "browser.click_link_by_partial_text('FULL IMAGE')"
   ]
  },
  {
   "cell_type": "code",
   "execution_count": 7,
   "metadata": {
    "scrolled": false
   },
   "outputs": [
    {
     "name": "stdout",
     "output_type": "stream",
     "text": [
      "https://www.jpl.nasa.gov//spaceimages/details.php?id=PIA17009 \n"
     ]
    }
   ],
   "source": [
    "# Use beautiful soup to read html page\n",
    "\n",
    "html = browser.html\n",
    "soup = BeautifulSoup(html, \"html.parser\")\n",
    "\n",
    "# Find the button classes to retrieve url component\n",
    "pic = soup.find('div', class_=\"buttons\")\n",
    "\n",
    "# Isolate both buttons and their 'a' tags\n",
    "article_link = pic.find_all('a')\n",
    "\n",
    "    # Use iterator to separate the 'a' tags, only take the relevant value and concatenate it with url to create\n",
    "    # complete url for Splinter navigation\n",
    "for link in article_link:\n",
    "    if link[\"href\"] != \"#\":\n",
    "        new_url = \"https://www.jpl.nasa.gov/\" + link[\"href\"]\n",
    "        print(new_url)"
   ]
  },
  {
   "cell_type": "code",
   "execution_count": 8,
   "metadata": {},
   "outputs": [],
   "source": [
    "# Use the retrieved url to navigate to the article page\n",
    "browser.visit(new_url)"
   ]
  },
  {
   "cell_type": "code",
   "execution_count": 9,
   "metadata": {},
   "outputs": [
    {
     "name": "stdout",
     "output_type": "stream",
     "text": [
      "https://www.jpl.nasa.gov//spaceimages/images/largesize/PIA17009_hires.jpg\n"
     ]
    }
   ],
   "source": [
    "html = browser.html\n",
    "soup = BeautifulSoup(html, \"html.parser\")\n",
    "\n",
    "image = soup.find('figure', class_=\"lede\").a[\"href\"]\n",
    "\n",
    "featured_image_url = \"https://www.jpl.nasa.gov/\" + image\n",
    "\n",
    "print(featured_image_url)"
   ]
  },
  {
   "cell_type": "code",
   "execution_count": 10,
   "metadata": {},
   "outputs": [],
   "source": [
    "# Scraping Mars weather data from the Mars weather twitter\n",
    "url = \"https://twitter.com/marswxreport?lang=en\"\n",
    "browser.visit(url)"
   ]
  },
  {
   "cell_type": "code",
   "execution_count": 11,
   "metadata": {},
   "outputs": [
    {
     "name": "stdout",
     "output_type": "stream",
     "text": [
      "Sol 2165 (2018-09-08), high -10C/14F, low -70C/-93F, pressure at 8.87 hPa, daylight 05:39-17:55\n"
     ]
    }
   ],
   "source": [
    "# Set the html value for beautiful soup, and then parse the html page\n",
    "\n",
    "html = browser.html\n",
    "soup = BeautifulSoup(html, \"html.parser\")\n",
    "\n",
    "# Get all tweets using the div class \"tweet\"\n",
    "\n",
    "all_tweets = soup.find_all('div', class_=\"tweet\")\n",
    "\n",
    "# Iterate through all retrieved div containers\n",
    "\n",
    "for tweet in all_tweets:\n",
    "\n",
    "    # Find the element of the tweet that contains the text\n",
    "    tweet_content = tweet.find('div', class_=\"js-tweet-text-container\")\n",
    "\n",
    "    # Access the text of that element\n",
    "    tweet_text = tweet_content.p.text\n",
    "    \n",
    "    # Split the returned string so that it can be compared and the appropriate value can be retrieved\n",
    "    tweet_compare = tweet_text.split(\" \")\n",
    "    \n",
    "    # Compare the first word of every tweet, as every weather tweet begins with the word \"Sol\", to prevent the scraper\n",
    "    # from retrieving the text of one of the twitter page's non-weather tweets\n",
    "    if tweet_compare[0] == \"Sol\":\n",
    "        mars_weather = tweet_text\n",
    "        break\n",
    "\n",
    "# Print to ensure that the appropriate value was returned\n",
    "print(mars_weather)\n",
    "    "
   ]
  },
  {
   "cell_type": "code",
   "execution_count": 12,
   "metadata": {},
   "outputs": [
    {
     "data": {
      "text/html": [
       "<div>\n",
       "<style scoped>\n",
       "    .dataframe tbody tr th:only-of-type {\n",
       "        vertical-align: middle;\n",
       "    }\n",
       "\n",
       "    .dataframe tbody tr th {\n",
       "        vertical-align: top;\n",
       "    }\n",
       "\n",
       "    .dataframe thead th {\n",
       "        text-align: right;\n",
       "    }\n",
       "</style>\n",
       "<table border=\"1\" class=\"dataframe\">\n",
       "  <thead>\n",
       "    <tr style=\"text-align: right;\">\n",
       "      <th></th>\n",
       "      <th>Mars Planet Profile</th>\n",
       "      <th>Facts</th>\n",
       "    </tr>\n",
       "  </thead>\n",
       "  <tbody>\n",
       "    <tr>\n",
       "      <th>0</th>\n",
       "      <td>Equatorial Diameter:</td>\n",
       "      <td>6,792 km</td>\n",
       "    </tr>\n",
       "    <tr>\n",
       "      <th>1</th>\n",
       "      <td>Polar Diameter:</td>\n",
       "      <td>6,752 km</td>\n",
       "    </tr>\n",
       "    <tr>\n",
       "      <th>2</th>\n",
       "      <td>Mass:</td>\n",
       "      <td>6.42 x 10^23 kg (10.7% Earth)</td>\n",
       "    </tr>\n",
       "    <tr>\n",
       "      <th>3</th>\n",
       "      <td>Moons:</td>\n",
       "      <td>2 (Phobos &amp; Deimos)</td>\n",
       "    </tr>\n",
       "    <tr>\n",
       "      <th>4</th>\n",
       "      <td>Orbit Distance:</td>\n",
       "      <td>227,943,824 km (1.52 AU)</td>\n",
       "    </tr>\n",
       "    <tr>\n",
       "      <th>5</th>\n",
       "      <td>Orbit Period:</td>\n",
       "      <td>687 days (1.9 years)</td>\n",
       "    </tr>\n",
       "    <tr>\n",
       "      <th>6</th>\n",
       "      <td>Surface Temperature:</td>\n",
       "      <td>-153 to 20 °C</td>\n",
       "    </tr>\n",
       "    <tr>\n",
       "      <th>7</th>\n",
       "      <td>First Record:</td>\n",
       "      <td>2nd millennium BC</td>\n",
       "    </tr>\n",
       "    <tr>\n",
       "      <th>8</th>\n",
       "      <td>Recorded By:</td>\n",
       "      <td>Egyptian astronomers</td>\n",
       "    </tr>\n",
       "  </tbody>\n",
       "</table>\n",
       "</div>"
      ],
      "text/plain": [
       "    Mars Planet Profile                          Facts\n",
       "0  Equatorial Diameter:                       6,792 km\n",
       "1       Polar Diameter:                       6,752 km\n",
       "2                 Mass:  6.42 x 10^23 kg (10.7% Earth)\n",
       "3                Moons:            2 (Phobos & Deimos)\n",
       "4       Orbit Distance:       227,943,824 km (1.52 AU)\n",
       "5         Orbit Period:           687 days (1.9 years)\n",
       "6  Surface Temperature:                  -153 to 20 °C\n",
       "7         First Record:              2nd millennium BC\n",
       "8          Recorded By:           Egyptian astronomers"
      ]
     },
     "execution_count": 12,
     "metadata": {},
     "output_type": "execute_result"
    }
   ],
   "source": [
    "# Using pandas html reader to retrieve table from space facts web page\n",
    "url = \"http://space-facts.com/mars/\"\n",
    "\n",
    "# Retrieve all tables from the page\n",
    "table = pd.read_html(url)\n",
    "\n",
    "# Take the first (and only) table from the returned list\n",
    "df = table[0]\n",
    "\n",
    "# Rename the columns to make it look nicer\n",
    "df.columns = ['Mars Planet Profile','Facts']\n",
    "\n",
    "# Display the dataframe\n",
    "df"
   ]
  },
  {
   "cell_type": "code",
   "execution_count": 13,
   "metadata": {},
   "outputs": [],
   "source": [
    "# Scraping the USGS Astrogeology website for Mars hemispheres pictures\n",
    "\n",
    "url = \"https://astrogeology.usgs.gov/search/results?q=hemisphere+enhanced&k1=target&v1=Mars\"\n",
    "browser.visit(url)"
   ]
  },
  {
   "cell_type": "code",
   "execution_count": 14,
   "metadata": {},
   "outputs": [
    {
     "name": "stdout",
     "output_type": "stream",
     "text": [
      "[{'title': 'Cerberus Hemisphere', 'img_url': 'http://astropedia.astrogeology.usgs.gov/download/Mars/Viking/cerberus_enhanced.tif/full.jpg'}, {'title': 'Schiaparelli Hemisphere', 'img_url': 'http://astropedia.astrogeology.usgs.gov/download/Mars/Viking/schiaparelli_enhanced.tif/full.jpg'}, {'title': 'Syrtis Major Hemisphere', 'img_url': 'http://astropedia.astrogeology.usgs.gov/download/Mars/Viking/syrtis_major_enhanced.tif/full.jpg'}, {'title': 'Valles Marineris Hemisphere', 'img_url': 'http://astropedia.astrogeology.usgs.gov/download/Mars/Viking/valles_marineris_enhanced.tif/full.jpg'}]\n"
     ]
    }
   ],
   "source": [
    "# Create list for storing dictionaries\n",
    "\n",
    "hemisphere_image_urls = []\n",
    "\n",
    "# Visit the initial search page and collect all hemisphere titles\n",
    "\n",
    "html = browser.html\n",
    "soup = BeautifulSoup(html,\"html.parser\")\n",
    "\n",
    "items = soup.find_all('div', class_=\"description\")\n",
    "\n",
    "# Iterate through the list and capture all relevant values\n",
    "\n",
    "for item in items:\n",
    "    \n",
    "    # Get the hemisphere title\n",
    "    header = item.a.h3.text\n",
    "    \n",
    "    # Split the header so that the \"Enhanced\" at the end of the string can be removed, and so the first word can be\n",
    "    # used to click the relevant link\n",
    "    header_split = header.split(\" \")\n",
    "    \n",
    "    # Use a comparative to determine if the string is three or four words long\n",
    "    if len(header_split) == 4:\n",
    "        \n",
    "        # Rebuild the string and save to a variable, excluding the word \"enhanced\"\n",
    "        title_string = header_split[0] + \" \" + header_split[1] + \" \" + header_split[2]\n",
    "        \n",
    "    else:\n",
    "        \n",
    "        # Rebuild the string and save to a variable, excluding the word \"enhanced\"\n",
    "        title_string = header_split[0] + \" \" + header_split[1]\n",
    "        \n",
    "    # Using the first word of the title, click to that hemisphere's page\n",
    "    browser.click_link_by_partial_text(header_split[0])\n",
    "\n",
    "    # Use Splinter & BeautifulSoup to read the webpage\n",
    "    html = browser.html\n",
    "    soup = BeautifulSoup(html,\"html.parser\")\n",
    "\n",
    "    # Get the relevant div class containing the link to the picture\n",
    "    pictures = soup.find('div', class_=\"downloads\")\n",
    "\n",
    "    # Retrieve the picture link and save to a variable\n",
    "    picture_link = pictures.ul.li.a[\"href\"]\n",
    "\n",
    "    # Create a temporary dictionary that contains the title string and picture link\n",
    "    temp_dict = {\n",
    "        \"title\":title_string,\n",
    "        \"img_url\":picture_link\n",
    "    }\n",
    "    \n",
    "    # Append the temporary dictionary to the list created earlier\n",
    "    hemisphere_image_urls.append(temp_dict)\n",
    "    \n",
    "    # Click back to the search page so that the next hemisphere scrape can be performed\n",
    "    browser.click_link_by_partial_text(\"Back\")\n",
    "    \n",
    "# Print the list to ensure successful result\n",
    "print(hemisphere_image_urls)"
   ]
  },
  {
   "cell_type": "code",
   "execution_count": null,
   "metadata": {},
   "outputs": [],
   "source": []
  }
 ],
 "metadata": {
  "kernelspec": {
   "display_name": "Python [conda env:PythonData]",
   "language": "python",
   "name": "conda-env-PythonData-py"
  },
  "language_info": {
   "codemirror_mode": {
    "name": "ipython",
    "version": 3
   },
   "file_extension": ".py",
   "mimetype": "text/x-python",
   "name": "python",
   "nbconvert_exporter": "python",
   "pygments_lexer": "ipython3",
   "version": "3.6.5"
  }
 },
 "nbformat": 4,
 "nbformat_minor": 2
}
